{
 "cells": [
  {
   "cell_type": "code",
   "execution_count": null,
   "metadata": {
    "collapsed": true
   },
   "outputs": [],
   "source": [
    "#This is Epidemiological model for LSD\n"
   ]
  },
  {
   "cell_type": "markdown",
   "metadata": {},
   "source": [
    "## SEIR system of equations\n",
    "<left> $\\dot{S}=\\alpha*N-(\\beta*SI/N)+\\theta*R-\\psi*S$ <br>\n",
    "$\\dot{E}=(\\beta*SI)/N -\\gamma*E - \\psi*E $<br>\n",
    "$\\dot{I}=(\\gamma*E- I(\\omega + \\psi)$ <br>\n",
    "$\\dot{R}=(\\omega*I \\theta*R-\\psi *R)$ <br>\n",
    "\n"
   ]
  },
  {
   "cell_type": "code",
   "execution_count": null,
   "metadata": {
    "collapsed": true
   },
   "outputs": [],
   "source": [
    "#import python modules\n",
    "import numpy as np\n",
    "import matplotlib.animation as animation\n",
    "import matplotlib.pylab as plt\n",
    "from scipy.integrate import odeint\n",
    "import math\n",
    "#to display images\n",
    "from IPython.display import Image\n",
    "\n",
    "#magic to show plots inline\n",
    "%matplotlib inline"
   ]
  },
  {
   "cell_type": "code",
   "execution_count": null,
   "metadata": {
    "collapsed": true
   },
   "outputs": [],
   "source": [
    "def SEIR(state,t):\n",
    "  # unpack the state vector\n",
    "  S = state[0]\n",
    "  E = state[1]\n",
    "  I = state[2]\n",
    "  R = state[3]   \n",
    "  \n",
    "  # Initial values\n",
    "  alpha = 0.04     \n",
    "  gamma = 0.03\n",
    "  psi  =  0.3\n",
    "  beta =  0.02\n",
    "  omega = 0.4\n",
    "  theta = 0.08\n",
    "  N=math.exp((alpha-psi)*1000) # Computing the number of populations\n",
    "  #N=1000\n",
    "  # Compute the derivatives\n",
    "\n",
    "  dS=alpha*N-((beta*S*E)/N)+theta*R-psi*S\n",
    "  #print (dS)\n",
    "  dE = (beta*S*E)/N-gamma*E-psi*E \n",
    " #print (dE)\n",
    "  dI=gamma*E- I*(omega+psi)\n",
    "  dR=omega*I-theta*R-psi*R\n",
    "\n",
    "  # return the result of derivatives\n",
    "  return [dS, dE, dI, dR]\n"
   ]
  },
  {
   "cell_type": "code",
   "execution_count": null,
   "metadata": {
    "collapsed": true
   },
   "outputs": [],
   "source": [
    "state0 = [100.0, 10.0, 10.0,10.0]\n",
    "t = np.arange(0.0, 200.0, 1)\n",
    "state = odeint(SEIR, state0, t)\n",
    "plt.plot(t,state)\n",
    "plt.xlabel('TIME (sec)')\n",
    "plt.ylabel('STATES')\n",
    "plt.title('SEIR Epidemiological Model')\n",
    "plt.legend(('$S$', '$E$','$I$','$R$'))"
   ]
  },
  {
   "cell_type": "code",
   "execution_count": null,
   "metadata": {
    "scrolled": true
   },
   "outputs": [
    {
     "name": "stdout",
     "output_type": "stream",
     "text": [
      "\n",
      "Welcome to Python 3.5's help utility!\n",
      "\n",
      "If this is your first time using Python, you should definitely check out\n",
      "the tutorial on the Internet at http://docs.python.org/3.5/tutorial/.\n",
      "\n",
      "Enter the name of any module, keyword, or topic to get help on writing\n",
      "Python programs and using Python modules.  To quit this help utility and\n",
      "return to the interpreter, just type \"quit\".\n",
      "\n",
      "To get a list of available modules, keywords, symbols, or topics, type\n",
      "\"modules\", \"keywords\", \"symbols\", or \"topics\".  Each module also comes\n",
      "with a one-line summary of what it does; to list the modules whose name\n",
      "or summary contain a given string such as \"spam\", type \"modules spam\".\n",
      "\n",
      "help> dir(os)\n",
      "No Python documentation found for 'dir(os)'.\n",
      "Use help() to get the interactive help utility.\n",
      "Use help(str) for help on the str class.\n",
      "\n"
     ]
    }
   ],
   "source": []
  },
  {
   "cell_type": "code",
   "execution_count": null,
   "metadata": {
    "collapsed": true
   },
   "outputs": [],
   "source": []
  }
 ],
 "metadata": {
  "kernelspec": {
   "display_name": "Python 3",
   "language": "python",
   "name": "python3"
  },
  "language_info": {
   "codemirror_mode": {
    "name": "ipython",
    "version": 3
   },
   "file_extension": ".py",
   "mimetype": "text/x-python",
   "name": "python",
   "nbconvert_exporter": "python",
   "pygments_lexer": "ipython3",
   "version": "3.5.2+"
  }
 },
 "nbformat": 4,
 "nbformat_minor": 2
}
